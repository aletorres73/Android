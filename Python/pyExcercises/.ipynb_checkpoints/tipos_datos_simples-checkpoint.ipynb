{
 "cells": [
  {
   "cell_type": "markdown",
   "id": "681a868c",
   "metadata": {},
   "source": [
    "# Ejercicios de Tipos de Datos Simples\n",
    "## Ejercicio 1\n",
    "Escribir un programa que muestre por pantalla la cadena "
   ]
  },
  {
   "cell_type": "code",
   "execution_count": 1,
   "id": "962a2cda",
   "metadata": {},
   "outputs": [
    {
     "name": "stdout",
     "output_type": "stream",
     "text": [
      "Hola Mundo!\n"
     ]
    }
   ],
   "source": [
    "print(\"Hola Mundo!\")"
   ]
  },
  {
   "cell_type": "markdown",
   "id": "adab54df",
   "metadata": {},
   "source": [
    "## Ejercicio 2\n",
    "Escribir un programa que almacene la cadena ¡Hola Mundo! en una variable y luego muestre por pantalla el contenido de la variable"
   ]
  },
  {
   "cell_type": "code",
   "execution_count": 2,
   "id": "f64426f7",
   "metadata": {},
   "outputs": [
    {
     "name": "stdout",
     "output_type": "stream",
     "text": [
      "Hola Mundo!\n"
     ]
    }
   ],
   "source": [
    "string = \"Hola Mundo!\"\n",
    "print (string)"
   ]
  },
  {
   "cell_type": "markdown",
   "id": "b25b5202",
   "metadata": {},
   "source": [
    "## Ejercicio 3\n",
    "Escribir un programa que pregunte el nombre del usuario en la consola y después de que el usuario lo introduzca muestre por pantalla la cadena ¡Hola (nombre)!, donde (nombre) es el nombre que el usuario haya introducido."
   ]
  },
  {
   "cell_type": "code",
   "execution_count": 3,
   "id": "376e4caf",
   "metadata": {},
   "outputs": [
    {
     "name": "stdout",
     "output_type": "stream",
     "text": [
      "Hola Alejandro!\n"
     ]
    }
   ],
   "source": [
    "nombre = \"Alejandro\"\n",
    "print (f\"Hola {nombre}!\")"
   ]
  },
  {
   "cell_type": "markdown",
   "id": "a03f74b3",
   "metadata": {},
   "source": [
    "## Ejercicio 4\n",
    "\n",
    "Escribir un programa que muestre por pantalla el resultado de la siguiente operación aritmética:\n",
    "\\begin{equation} (\\frac {3+2}{2.5} )²\\end{equation}"
   ]
  },
  {
   "cell_type": "code",
   "execution_count": 4,
   "id": "4f4a7916",
   "metadata": {},
   "outputs": [
    {
     "name": "stdout",
     "output_type": "stream",
     "text": [
      "0.25\n"
     ]
    }
   ],
   "source": [
    "_sum = 3+2\n",
    "mult = 2*5\n",
    "\n",
    "result = (_sum / mult )**2\n",
    "print (result)"
   ]
  },
  {
   "cell_type": "markdown",
   "id": "f689ffab",
   "metadata": {},
   "source": [
    "## Ejercicio 5\n",
    "\n",
    "Escribir un programa que pregunte al usuario por el número de horas trabajadas y el coste por hora. Después debe mostrar por pantalla la paga que le corresponde"
   ]
  },
  {
   "cell_type": "code",
   "execution_count": 5,
   "id": "738bf171",
   "metadata": {
    "scrolled": true
   },
   "outputs": [
    {
     "name": "stdout",
     "output_type": "stream",
     "text": [
      "Ingrese el número de horas trabajadas: 100\n",
      "Ingrese el coste por hora: 50\n",
      "La paga correspondiente es:  5000.0\n"
     ]
    }
   ],
   "source": [
    "horas_trabajadas = float(input(\"Ingrese el número de horas trabajadas: \"))\n",
    "coste_por_hora = float(input(\"Ingrese el coste por hora: \"))\n",
    "\n",
    "paga = horas_trabajadas * coste_por_hora\n",
    "\n",
    "print(\"La paga correspondiente es: \", paga)\n"
   ]
  },
  {
   "cell_type": "markdown",
   "id": "28758a34",
   "metadata": {},
   "source": [
    "## Ejercicio 6\n",
    "\n",
    "Escribir un programa que lea un entero positivo, n, introducido por el usuario y después muestre en pantalla la suma de todos los enteros desde 1 hasta n. La suma de los primeros enteros positivos puede ser calculada de la siguiente forma: \n",
    "\\begin{equation} suma = \\frac{n(n+1)}{2} \\end{equation}"
   ]
  },
  {
   "cell_type": "code",
   "execution_count": 6,
   "id": "b9e0896a",
   "metadata": {},
   "outputs": [
    {
     "name": "stdout",
     "output_type": "stream",
     "text": [
      "Ingrese un entero positivo: 20\n",
      "La suma de los enteros desde 1 hasta 20 es: 210\n"
     ]
    }
   ],
   "source": [
    "n = int(input(\"Ingrese un entero positivo: \"))\n",
    "\n",
    "suma = (n * (n + 1)) // 2\n",
    "\n",
    "print(\"La suma de los enteros desde 1 hasta\", n, \"es:\", suma)\n"
   ]
  },
  {
   "cell_type": "markdown",
   "id": "4219059d",
   "metadata": {},
   "source": [
    "## Ejercicio 7\n",
    "\n",
    "Escribir un programa que pida al usuario su peso (en kg) y estatura (en metros), calcule el índice de masa corporal y lo almacene en una variable, y muestre por pantalla la frase \"Tu índice de masa corporal es (imc)\" donde (imc) es el índice de masa corporal calculado redondeado con dos decimales."
   ]
  },
  {
   "cell_type": "code",
   "execution_count": 7,
   "id": "c2cc4455",
   "metadata": {},
   "outputs": [
    {
     "name": "stdout",
     "output_type": "stream",
     "text": [
      "Ingrese su peso en kg: 102\n",
      "Ingrese su estatura en metros: 1.71\n",
      "Tu índice de masa corporal es 34.88\n"
     ]
    }
   ],
   "source": [
    "peso = float(input(\"Ingrese su peso en kg: \"))\n",
    "estatura = float(input(\"Ingrese su estatura en metros: \"))\n",
    "\n",
    "imc = peso / (estatura ** 2)\n",
    "imc = round(imc, 2)\n",
    "\n",
    "print(\"Tu índice de masa corporal es\", imc)\n"
   ]
  },
  {
   "cell_type": "markdown",
   "id": "2581204d",
   "metadata": {},
   "source": [
    "## Ejercicio 9\n",
    "\n",
    "Escribir un programa que pregunte al usuario una cantidad a invertir, el interés anual y el número de años, y muestre por pantalla el capital obtenido en la inversión."
   ]
  },
  {
   "cell_type": "code",
   "execution_count": 8,
   "id": "566ffcb5",
   "metadata": {},
   "outputs": [
    {
     "name": "stdout",
     "output_type": "stream",
     "text": [
      "Ingrese la cantidad a invertir: 100\n",
      "Ingrese el interés anual (en porcentaje): 50\n",
      "Ingrese el número de años: 1\n",
      "El capital obtenido en la inversión es: 150.0\n"
     ]
    }
   ],
   "source": [
    "cantidad_invertir = float(input(\"Ingrese la cantidad a invertir: \"))\n",
    "interes_anual = float(input(\"Ingrese el interés anual (en porcentaje): \"))\n",
    "numero_anios = int(input(\"Ingrese el número de años: \"))\n",
    "\n",
    "capital_obtenido = cantidad_invertir * (1 + (interes_anual / 100)) ** numero_anios\n",
    "\n",
    "print(\"El capital obtenido en la inversión es:\", capital_obtenido)\n"
   ]
  },
  {
   "cell_type": "markdown",
   "id": "0e828a7e",
   "metadata": {},
   "source": [
    "## Ejercicio 10\n",
    "\n",
    "Una juguetería tiene mucho éxito en dos de sus productos: payasos y muñecas. Suele hacer venta por correo y la empresa de logística les cobra por peso de cada paquete así que deben calcular el peso de los payasos y muñecas que saldrán en cada paquete a demanda. Cada payaso pesa 112 g y cada muñeca 75 g. Escribir un programa que lea el número de payasos y muñecas vendidos en el último pedido y calcule el peso total del paquete que será enviado."
   ]
  },
  {
   "cell_type": "code",
   "execution_count": 12,
   "id": "8c22174c",
   "metadata": {},
   "outputs": [
    {
     "name": "stdout",
     "output_type": "stream",
     "text": [
      "Ingrese el número de payasos vendidos:10\n",
      "ingrese el número de muñecas vendidos:20\n",
      "el peso total de payasos y muñecas vendidas es: 2620g = 2.62kg \n"
     ]
    }
   ],
   "source": [
    "peso_payaso = 112\n",
    "peso_muñecas = 75\n",
    "\n",
    "numero_payasos = int(input(\"Ingrese el número de payasos vendidos:\"))\n",
    "numero_muñecas = int(input(\"ingrese el número de muñecas vendidos:\"))\n",
    "\n",
    "peso_total = (peso_payaso*numero_payasos)+(peso_muñecas*numero_muñecas)\n",
    "\n",
    "print(f\"el peso total de payasos y muñecas vendidas es: {peso_total}g = {peso_total/1000}kg \")"
   ]
  },
  {
   "cell_type": "markdown",
   "id": "ea535088",
   "metadata": {},
   "source": [
    "## Ejercicio 11\n",
    "\n",
    "Imagina que acabas de abrir una nueva cuenta de ahorros que te ofrece el 4% de interés al año. Estos ahorros debido a intereses, que no se cobran hasta finales de año, se te añaden al balance final de tu cuenta de ahorros. Escribir un programa que comience leyendo la cantidad de dinero depositada en la cuenta de ahorros, introducida por el usuario. Después el programa debe calcular y mostrar por pantalla la cantidad de ahorros tras el primer, segundo y tercer años. Redondear cada cantidad a dos decimales."
   ]
  },
  {
   "cell_type": "code",
   "execution_count": 17,
   "id": "30152ed5",
   "metadata": {},
   "outputs": [
    {
     "name": "stdout",
     "output_type": "stream",
     "text": [
      "Ingrese el depósito inicial en la cuenta de ahorro:100\n",
      "Ahorros finales en el primer año: 104.0\n",
      "Ahorros finales en el segundo año: 108.16\n",
      "Ahorros finales en el tercer año: 112.49\n"
     ]
    }
   ],
   "source": [
    "deposito_inicial = float (input (\"Ingrese el depósito inicial en la cuenta de ahorro:\"))\n",
    "\n",
    "interes_anual = 0.04\n",
    "\n",
    "primer_año = deposito_inicial * (1+interes_anual)\n",
    "segundo_año = primer_año *(1+interes_anual)\n",
    "tercer_año = segundo_año *(1+interes_anual)\n",
    "\n",
    "print(f\"Ahorros finales en el primer año: {round(primer_año,2)}\")\n",
    "print(f\"Ahorros finales en el segundo año: {round(segundo_año,2)}\")\n",
    "print(f\"Ahorros finales en el tercer año: {round(tercer_año,2)}\")"
   ]
  },
  {
   "cell_type": "markdown",
   "id": "1bc82d49",
   "metadata": {},
   "source": [
    "## Ejercicio 12\n",
    "\n",
    "Una panadería vende barras de pan a $ \\$ $ 3.49 cada una. El pan que no es el día tiene un descuento del 60%. Escribir un programa que comience leyendo el número de barras vendidas que no son del día. Después el programa debe mostrar el precio habitual de una barra de pan, el descuento que se le hace por no ser fresca y el coste final total."
   ]
  },
  {
   "cell_type": "code",
   "execution_count": 23,
   "id": "61f2bfb7",
   "metadata": {},
   "outputs": [
    {
     "name": "stdout",
     "output_type": "stream",
     "text": [
      "Ingrese el número de barras vendidas que no son del día: 10\n",
      "Precio habitual del pan: $3.49\n",
      "Descuento por barra vendida fuera de día: %60.0\n",
      "Coste final: $20.9 \n"
     ]
    }
   ],
   "source": [
    "barra_de_pan = 3.49\n",
    "descuento = 0.6\n",
    "barras_fuera = int(input(\"Ingrese el número de barras vendidas que no son del día: \" ))\n",
    "\n",
    "print(f\"Precio habitual del pan: ${barra_de_pan}\")\n",
    "print(f\"Descuento por barra vendida fuera de día: %{descuento*100}\")\n",
    "print(f\"Coste final: ${round(barra_de_pan*descuento,2)*barras_fuera} \")"
   ]
  }
 ],
 "metadata": {
  "kernelspec": {
   "display_name": "Python 3 (ipykernel)",
   "language": "python",
   "name": "python3"
  },
  "language_info": {
   "codemirror_mode": {
    "name": "ipython",
    "version": 3
   },
   "file_extension": ".py",
   "mimetype": "text/x-python",
   "name": "python",
   "nbconvert_exporter": "python",
   "pygments_lexer": "ipython3",
   "version": "3.8.10"
  }
 },
 "nbformat": 4,
 "nbformat_minor": 5
}
