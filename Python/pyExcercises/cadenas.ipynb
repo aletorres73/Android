{
 "cells": [
  {
   "cell_type": "markdown",
   "id": "636df692",
   "metadata": {},
   "source": [
    "## Ejercicio 1\n",
    "\n",
    "Escribir un programa que pregunte el nombre del usuario en la consola y un número entero e imprima por pantalla en líneas distintas el nombre del usuario tantas veces como el número introducido.."
   ]
  },
  {
   "cell_type": "code",
   "execution_count": 1,
   "id": "29a8b540",
   "metadata": {},
   "outputs": [
    {
     "name": "stdout",
     "output_type": "stream",
     "text": [
      "Ingrese un nombre:Alejandro\n",
      "Ingrese un número entero:5\n",
      "Alejandro\n",
      "Alejandro\n",
      "Alejandro\n",
      "Alejandro\n",
      "Alejandro\n"
     ]
    }
   ],
   "source": [
    "nombre = input (\"Ingrese un nombre:\")\n",
    "cantidad = int(input(\"Ingrese un número entero:\"))\n",
    "\n",
    "for i in range(cantidad):\n",
    "    print (f\"{nombre}\")"
   ]
  },
  {
   "cell_type": "markdown",
   "id": "0dd0d776",
   "metadata": {},
   "source": [
    "## Ejercicio 2\n",
    "\n",
    "Escribir un programa que pregunte el nombre completo del usuario en la consola y después muestre por pantalla el nombre completo del usuario tres veces, una con todas las letras minúsculas, otra con todas las letras mayúsculas y otra solo con la primera letra del nombre y de los apellidos en mayúscula. El usuario puede introducir su nombre combinando mayúsculas y minúsculas como quiera."
   ]
  },
  {
   "cell_type": "code",
   "execution_count": 5,
   "id": "1d987910",
   "metadata": {},
   "outputs": [
    {
     "name": "stdout",
     "output_type": "stream",
     "text": [
      "Ingrese un nombre completo:migUel AleJandro TORRes\n",
      "miguel alejandro torres\n",
      "MIGUEL ALEJANDRO TORRES\n",
      "Miguel Alejandro Torres\n"
     ]
    }
   ],
   "source": [
    "nombre_completo = input(\"Ingrese un nombre completo:\")\n",
    "\n",
    "print(f\"{nombre_completo.lower()}\")\n",
    "print(f\"{nombre_completo.upper()}\")\n",
    "print(f\"{nombre_completo.title()}\")"
   ]
  },
  {
   "cell_type": "markdown",
   "id": "eca16ca5",
   "metadata": {},
   "source": [
    "## Ejercicio 3\n",
    "\n",
    "Escribir un programa que pregunte el nombre del usuario en la consola y después de que el usuario lo introduzca muestre por pantalla **NOMBRE tiene n letras**, donde NOMBRE es el nombre de usuario en mayúsculas y n es el número de letras que tienen el nombre."
   ]
  },
  {
   "cell_type": "code",
   "execution_count": 6,
   "id": "fdc92d13",
   "metadata": {},
   "outputs": [
    {
     "name": "stdout",
     "output_type": "stream",
     "text": [
      "Ingrese su nombre: Alejandro\n",
      "ALEJANDRO tiene 9 letras.\n"
     ]
    }
   ],
   "source": [
    "nombre = input(\"Ingrese su nombre: \")\n",
    "\n",
    "nombre_mayus = nombre.upper()\n",
    "numero_letras = len(nombre)\n",
    "\n",
    "print(nombre_mayus, \"tiene\", numero_letras, \"letras.\")"
   ]
  },
  {
   "cell_type": "markdown",
   "id": "2fbfa05d",
   "metadata": {},
   "source": [
    "## Ejercicio 4\n",
    "\n",
    "Los teléfonos de una empresa tienen el siguiente formato prefijo-número-extension donde el prefijo es el código del país +34, y la extensión tiene dos dígitos (por ejemplo +34-913724710-56). Escribir un programa que pregunte por un número de teléfono con este formato y muestre por pantalla el número de teléfono sin el prefijo y la extensión."
   ]
  },
  {
   "cell_type": "code",
   "execution_count": 8,
   "id": "231b82dd",
   "metadata": {},
   "outputs": [
    {
     "name": "stdout",
     "output_type": "stream",
     "text": [
      "Ingrese un número de teléfono en el formato +11-xxxx-xxxx: +11-5664-4226\n",
      "El número de teléfono sin prefijo y extensión es: 5664-4226\n"
     ]
    }
   ],
   "source": [
    "telefono = input(\"Ingrese un número de teléfono en el formato +11-xxxx-xxxx: \")\n",
    "\n",
    "numero = telefono[4:13]\n",
    "\n",
    "print(\"El número de teléfono sin prefijo y extensión es:\", numero)\n"
   ]
  },
  {
   "cell_type": "markdown",
   "id": "8ca4e256",
   "metadata": {},
   "source": [
    "## Ejercicio 5\n",
    "\n",
    "Escribir un programa que pida al usuario que introduzca una frase en la consola y muestre por pantalla la frase invertida."
   ]
  },
  {
   "cell_type": "code",
   "execution_count": 10,
   "id": "84d387f9",
   "metadata": {},
   "outputs": [
    {
     "name": "stdout",
     "output_type": "stream",
     "text": [
      "Ingrese una frase: anda a lavarte el orto\n",
      "Frase invertida: otro le etraval a adna\n"
     ]
    }
   ],
   "source": [
    "frase = input(\"Ingrese una frase: \")\n",
    "\n",
    "frase_invertida = frase[::-1]\n",
    "\n",
    "print(\"Frase invertida:\", frase_invertida)"
   ]
  },
  {
   "cell_type": "markdown",
   "id": "eaa492ac",
   "metadata": {},
   "source": [
    "## Ejercicio 6\n",
    "\n",
    "Escribir un programa que pida al usuario que introduzca una frase en la consola y una vocal, y después muestre por pantalla la misma frase pero con la vocal introducida en mayúscula."
   ]
  },
  {
   "cell_type": "markdown",
   "id": "c77e9897",
   "metadata": {},
   "source": [
    "## Ejercicio 7\n",
    "\n",
    "Escribir un programa que pregunte el correo electrónico del usuario en la consola y muestre por pantalla otro correo electrónico con el mismo nombre (la parte delante de la arroba @) pero con dominio ceu.es."
   ]
  },
  {
   "cell_type": "code",
   "execution_count": 11,
   "id": "92151b30",
   "metadata": {},
   "outputs": [
    {
     "name": "stdout",
     "output_type": "stream",
     "text": [
      "Ingrese una frase: Gracias totales.\n",
      "Ingrese una vocal: a\n",
      "Frase modificada: GrAciAs totAles.\n"
     ]
    }
   ],
   "source": [
    "frase = input(\"Ingrese una frase: \")\n",
    "vocal = input(\"Ingrese una vocal: \")\n",
    "\n",
    "frase_modificada = frase.replace(vocal, vocal.upper())\n",
    "\n",
    "print(\"Frase modificada:\", frase_modificada)"
   ]
  },
  {
   "cell_type": "markdown",
   "id": "6ab3c75f",
   "metadata": {},
   "source": [
    "## Ejercicio 8\n",
    "\n",
    "Escribir un programa que pregunte por consola el precio de un producto en pesos con dos decimales y muestre por pantalla el número de pesos y el número de céntimos del precio introducido."
   ]
  },
  {
   "cell_type": "code",
   "execution_count": 12,
   "id": "7e527bf3",
   "metadata": {},
   "outputs": [
    {
     "name": "stdout",
     "output_type": "stream",
     "text": [
      "Ingrese el precio del producto en pesos: 100.25\n",
      "Número de pesos: 100\n",
      "Número de céntimos: 25\n"
     ]
    }
   ],
   "source": [
    "precio = float(input(\"Ingrese el precio del producto en pesos: \"))\n",
    "\n",
    "entero = int(precio)\n",
    "centavos = int((precio - entero) * 100)\n",
    "\n",
    "print(\"Número de pesos:\", entero)\n",
    "print(\"Número de céntimos:\", centavos)"
   ]
  },
  {
   "cell_type": "markdown",
   "id": "2e7b7c7b",
   "metadata": {},
   "source": [
    "## Ejercicio 9\n",
    "\n",
    "Escribir un programa que pregunte al usuario la fecha de su nacimiento en formato dd/mm/aaaa y muestra por pantalla, el día, el mes y el año. Adaptar el programa anterior para que también funcione cuando el día o el mes se introduzcan con un solo carácter."
   ]
  },
  {
   "cell_type": "code",
   "execution_count": 13,
   "id": "81f23697",
   "metadata": {},
   "outputs": [
    {
     "name": "stdout",
     "output_type": "stream",
     "text": [
      "Ingrese su fecha de nacimiento (dd/mm/aaaa): 8/5/1992\n",
      "Día: 08\n",
      "Mes: 05\n",
      "Año: 1992\n"
     ]
    }
   ],
   "source": [
    "fecha_nacimiento = input(\"Ingrese su fecha de nacimiento (dd/mm/aaaa): \")\n",
    "\n",
    "# Dividir la fecha en día, mes y año\n",
    "dia, mes, año = fecha_nacimiento.split('/')\n",
    "\n",
    "# Verificar si el día o el mes tienen un solo carácter y agregar un '0' al inicio si es necesario\n",
    "if len(dia) == 1:\n",
    "    dia = '0' + dia\n",
    "if len(mes) == 1:\n",
    "    mes = '0' + mes\n",
    "\n",
    "print(\"Día:\", dia)\n",
    "print(\"Mes:\", mes)\n",
    "print(\"Año:\", año)"
   ]
  },
  {
   "cell_type": "markdown",
   "id": "ca09766b",
   "metadata": {},
   "source": [
    "## Ejercicio 10\n",
    "\n",
    "Escribir un programa que pregunte por consola por los productos de una cesta de la compra, separados por comas, y muestre por pantalla cada uno de los productos en una línea distinta."
   ]
  },
  {
   "cell_type": "code",
   "execution_count": 14,
   "id": "055e1f78",
   "metadata": {},
   "outputs": [
    {
     "name": "stdout",
     "output_type": "stream",
     "text": [
      "Ingrese los productos de la cesta de la compra, separados por comas: pan,cerveza,vino,mani\n",
      "pan\n",
      "cerveza\n",
      "vino\n",
      "mani\n"
     ]
    }
   ],
   "source": [
    "productos = input(\"Ingrese los productos de la cesta de la compra, separados por comas: \")\n",
    "\n",
    "productos_lista = productos.split(',')\n",
    "\n",
    "for producto in productos_lista:\n",
    "    print(producto.strip())\n"
   ]
  },
  {
   "cell_type": "markdown",
   "id": "395213bc",
   "metadata": {},
   "source": [
    "## Ejercicio 11\n",
    "\n",
    "Escribir un programa que pregunte el nombre el un producto, su precio y un número de unidades y muestre por pantalla una cadena con el nombre del producto seguido de su precio unitario con 6 dígitos enteros y 2 decimales, el número de unidades con tres dígitos y el coste total con 8 dígitos enteros y 2 decimales."
   ]
  },
  {
   "cell_type": "code",
   "execution_count": 15,
   "id": "95ba441c",
   "metadata": {},
   "outputs": [
    {
     "name": "stdout",
     "output_type": "stream",
     "text": [
      "Ingrese el nombre del producto: cerveza en lata\n",
      "Ingrese el precio unitario del producto: 250\n",
      "Ingrese el número de unidades: 6\n",
      "Nombre del producto: cerveza en lata\n",
      "Precio unitario: 250.00\n",
      "Número de unidades:   6\n",
      "Coste total:  1500.00\n"
     ]
    }
   ],
   "source": [
    "nombre_producto = input(\"Ingrese el nombre del producto: \")\n",
    "precio_unitario = float(input(\"Ingrese el precio unitario del producto: \"))\n",
    "num_unidades = int(input(\"Ingrese el número de unidades: \"))\n",
    "\n",
    "coste_total = precio_unitario * num_unidades\n",
    "\n",
    "cadena_resultado = f\"Nombre del producto: {nombre_producto}\\n\"\n",
    "cadena_resultado += f\"Precio unitario: {precio_unitario:6.2f}\\n\"\n",
    "cadena_resultado += f\"Número de unidades: {num_unidades:3d}\\n\"\n",
    "cadena_resultado += f\"Coste total: {coste_total:8.2f}\"\n",
    "\n",
    "print(cadena_resultado)"
   ]
  }
 ],
 "metadata": {
  "kernelspec": {
   "display_name": "Python 3 (ipykernel)",
   "language": "python",
   "name": "python3"
  },
  "language_info": {
   "codemirror_mode": {
    "name": "ipython",
    "version": 3
   },
   "file_extension": ".py",
   "mimetype": "text/x-python",
   "name": "python",
   "nbconvert_exporter": "python",
   "pygments_lexer": "ipython3",
   "version": "3.8.10"
  }
 },
 "nbformat": 4,
 "nbformat_minor": 5
}
