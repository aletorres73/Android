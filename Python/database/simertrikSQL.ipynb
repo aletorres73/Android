{
 "cells": [
  {
   "cell_type": "markdown",
   "metadata": {
    "id": "EidgdUVIqr4g"
   },
   "source": [
    "## Implementación de sistema SIMETRIK en base de datos CLAP Y BANSUR CON SQLite3\n",
    "### Torres Miguel Alejandro\n",
    "### Fecha: 09/07/2023\n",
    "   \n",
    "#### Se realizan las importaciones necesarias y se cargan los archivos al entorno."
   ]
  },
  {
   "cell_type": "code",
   "execution_count": 15,
   "metadata": {
    "colab": {
     "base_uri": "https://localhost:8080/",
     "height": 140
    },
    "id": "abQJpNpDEZ9V",
    "outputId": "612e25b1-7e1b-4381-b0c9-e05045ae3f1b"
   },
   "outputs": [],
   "source": [
    "import csv\n",
    "import sqlite3\n",
    "\n",
    "\n",
    "def createTable(name, header, rows, cursor):\n",
    "    newHeader = []\n",
    "    for col in header:\n",
    "        clean_col = col.replace(\"\\ufeff\", '')  # Eliminar caracteres especiales\n",
    "        newHeader.append(clean_col)\n",
    "    # Crear la tabla con el nombre especificado        \n",
    "    create_table_query = 'CREATE TABLE {} ({})'.format(name, ', '.join(['\"{}\"'.format(col) for col in newHeader]))\n",
    "    cursor.execute(create_table_query)\n",
    "\n",
    "    # Insertar los datos en la tabla\n",
    "    insert_data_query = 'INSERT INTO {} VALUES ({})'.format(name, ', '.join(['?' for _ in newHeader]))\n",
    "    cursor.executemany(insert_data_query, rows)\n",
    "\n",
    "def modifyTable(name, nameR, header, rows, cursor):\n",
    "    newHeader = []\n",
    "    for col in header:\n",
    "        clean_col = col.replace(\"\\ufeff\", '')  # Eliminar caracteres especiales\n",
    "        newHeader.append(clean_col)\n",
    "\n",
    "    # Crear la tabla con el nombre especificado\n",
    "    create_table_query = 'CREATE TABLE {} (ID INTEGER PRIMARY KEY AUTOINCREMENT DEFAULT 0, {}, CRUZADO DEFAULT \"-\")'.format(name, ', '.join(['\"{}\"'.format(col) for col in newHeader]))\n",
    "    cursor.execute(create_table_query)\n",
    "\n",
    "    # Insertar los datos en la tabla\n",
    "    insert_data_query = 'INSERT INTO {} ({},CRUZADO) VALUES ({},\"{}\")'.format(name, ', '.join(header), ', '.join(['?' for _ in newHeader]),'-')\n",
    "    cursor.executemany(insert_data_query, rows)\n",
    "\n",
    "\n",
    "    # Borrar la tabla nameR si existe\n",
    "    drop_table_query = 'DROP TABLE IF EXISTS {}'.format(nameR)\n",
    "    cursor.execute(drop_table_query)\n",
    "\n",
    "\n",
    "    # Renombrar la tabla name a nameR\n",
    "    rename_table_query = 'ALTER TABLE {} RENAME TO {}'.format(name, nameR)\n",
    "    cursor.execute(rename_table_query)\n"
   ]
  },
  {
   "cell_type": "markdown",
   "metadata": {
    "id": "pqB55kYCq2Dc"
   },
   "source": [
    "#### Se crean las tablas SQL para gestionar las bases de datos"
   ]
  },
  {
   "cell_type": "code",
   "execution_count": 16,
   "metadata": {
    "colab": {
     "base_uri": "https://localhost:8080/"
    },
    "id": "9PmRpYshPP87",
    "outputId": "10de2834-b756-4be4-e2e7-11ee0f3a7dac"
   },
   "outputs": [],
   "source": [
    "clap_file_path = '/home/aletorres/OneDrive/AleOD_/WORK/Prueba Técnica-selected/CLAP.csv'\n",
    "bansur_file_path = '/home/aletorres/OneDrive/AleOD_/WORK/Prueba Técnica-selected/BANSUR.csv'\n",
    "\n",
    "with open(clap_file_path, 'r') as clapfile:\n",
    "    clap_data = csv.reader(clapfile)\n",
    "    clap_header = next(clap_data)  # Lee la primera línea (encabezados)\n",
    "    clap_rows = list(clap_data)  # Lee las filas restantes\n",
    "\n",
    "with open(bansur_file_path, 'r') as bansurfile:\n",
    "    bansur_data = csv.reader(bansurfile)\n",
    "    bansur_header = next(bansur_data)  # Lee la primera línea (encabezados)\n",
    "    bansur_rows = list(bansur_data)  # Lee las filas restantes\n",
    "\n",
    "\n",
    "conn = sqlite3.connect(':memory:')\n",
    "cursor = conn.cursor()\n",
    "\n",
    "createTable('clap', clap_header, clap_rows, cursor)\n",
    "createTable('bansur', bansur_header, bansur_rows, cursor)\n"
   ]
  },
  {
   "cell_type": "markdown",
   "metadata": {},
   "source": [
    "#### Primer consulta a las bases de datos"
   ]
  },
  {
   "cell_type": "code",
   "execution_count": 17,
   "metadata": {},
   "outputs": [
    {
     "name": "stdout",
     "output_type": "stream",
     "text": [
      "('443715', '0190', 'CANCELADA', '21944', '2020-11-01 07:50:25.000', '136719', '047100185686', '2020-11-05')\n",
      "('802414', '6615', 'PAGADA', '42.51', '2020-11-01 04:35:04.000', '053042', '029607730901', '2020-11-02')\n",
      "('818156', '0672', 'NO APLICA', '20.8', '2020-11-01 04:35:04.000', '', '497363207741', '2020-11-02')\n",
      "('954015', '5581', 'PAGADA', '41', '2020-11-01 04:35:06.000', '013616', '441622557487', '2020-11-02')\n",
      "('954015', '2538', 'PAGADA', '68', '2020-11-01 04:35:06.000', '013602', '266554946896', '2020-11-02')\n",
      "('954015', '2581', 'PAGADA', '144', '2020-11-01 04:35:06.000', '013626', '106967585923', '2020-11-02')\n",
      "('818156', '8094', 'PAGADA', '189.5', '2020-11-01 04:35:06.000', '053064', '890554602678', '2020-11-02')\n",
      "('946891', '1670', 'NO APLICA', '776.6', '2020-11-01 04:35:06.000', 'H37254', '249718452281', '2020-11-02')\n",
      "('958758', '4254', 'PAGADA', '27.54', '2020-11-01 04:35:08.000', '151121', '243262174009', '2020-11-02')\n",
      "('930288', '8524', 'PAGADA', '88', '2020-11-01 04:35:08.000', '191788', '404749691060', '2020-11-02')\n",
      "\n",
      "\n",
      "('9540150300', 'PAGO', '44', '20201101', '272012', '320720237226', '2020-11-03')\n",
      "('9540150300', 'PAGO', '93', '20201101', '216149', '812801092295', '2020-11-03')\n",
      "('9540150310', 'PAGO', '1579', '20201101', '898544', '563080775636', '2020-11-03')\n",
      "('9540150319', 'PAGO', '86', '20201101', '501928', '924685088703', '2020-11-03')\n",
      "('9540150314', 'PAGO', '679', '20201101', '170207', '035452614774', '2020-11-03')\n",
      "('9540150347', 'PAGO', '75', '20201101', '009187', '603396947906', '2020-11-03')\n",
      "('9540150383', 'PAGO', '525', '20201101', '055165', '000153266978', '2020-11-03')\n",
      "('9540150382', 'PAGO', '150', '20201101', '912471', '217691630619', '2020-11-03')\n",
      "('9540150320', 'PAGO', '45.15', '20201101', '440954', '773873869693', '2020-11-03')\n",
      "('9540150361', 'PAGO', '252.72', '20201101', '990646', '023419715445', '2020-11-03')\n"
     ]
    }
   ],
   "source": [
    "query = '''\n",
    "            SELECT *\n",
    "            FROM clap\n",
    "        '''\n",
    "cursor.execute(query)\n",
    "\n",
    "for row in (cursor.fetchmany(10)):\n",
    "    print(row)\n",
    "print('\\n')\n",
    "\n",
    "query = '''SELECT * FROM bansur '''\n",
    "cursor.execute(query)\n",
    "\n",
    "for row in (cursor.fetchmany(10)):\n",
    "    print(row)"
   ]
  },
  {
   "cell_type": "markdown",
   "metadata": {
    "id": "Bn5rZsTqgfMV"
   },
   "source": [
    "#### 1. Escriba el código de SQL que le permite conocer el monto y la cantidad de las transacciones que SIMETRIK considera como conciliables para la base de CLAP"
   ]
  },
  {
   "cell_type": "code",
   "execution_count": 18,
   "metadata": {
    "colab": {
     "base_uri": "https://localhost:8080/"
    },
    "id": "LqaTrQwuInI4",
    "outputId": "856eadeb-5fb5-489d-9707-36d387985e95"
   },
   "outputs": [
    {
     "name": "stdout",
     "output_type": "stream",
     "text": [
      "Monto : $ 61050819.41\n",
      "Cantidad: $ 147331\n"
     ]
    }
   ],
   "source": [
    "query = '''SELECT SUM(MONTO), COUNT(*) FROM clap WHERE TIPO_TRX = 'PAGADA' ORDER BY FECHA_TRANSACCION'''\n",
    "\n",
    "cursor.execute(query)\n",
    "result_clap = cursor.fetchone()\n",
    "\n",
    "print(\"Monto : $\",round(result_clap[0],2))\n",
    "print(\"Cantidad:\",result_clap[1])"
   ]
  },
  {
   "cell_type": "markdown",
   "metadata": {
    "id": "kqWCd5tKiZve"
   },
   "source": [
    "#### 2. Escriba el código de SQL que le permite conocer el monto y la cantidad de las transacciones que SIMETRIK considera como conciliables para la base de BANSUR"
   ]
  },
  {
   "cell_type": "code",
   "execution_count": 40,
   "metadata": {
    "colab": {
     "base_uri": "https://localhost:8080/"
    },
    "id": "5aE9bpNJbVxu",
    "outputId": "e40ae018-304c-4c77-96b8-20c50b54c0f1"
   },
   "outputs": [
    {
     "name": "stdout",
     "output_type": "stream",
     "text": [
      "Monto :$ 54053911.94\n",
      "Cantidad: 132338\n"
     ]
    }
   ],
   "source": [
    "query = '''SELECT SUM(MONTO), COUNT(*) FROM bansur WHERE TIPO_TRX = 'PAGO' ORDER BY FECHA_TRANSACCION'''\n",
    "\n",
    "cursor.execute(query)\n",
    "result_bansur = cursor.fetchone()\n",
    "\n",
    "print(\"Monto :$\",round(result_bansur[0],2))\n",
    "print(\"Cantidad:\",result_bansur[1])"
   ]
  },
  {
   "cell_type": "markdown",
   "metadata": {
    "id": "U8GeqNYdjPvd"
   },
   "source": [
    "#### 3. ¿Cómo se comparan las cifras de los puntos anteriores respecto de las cifras totales en las fuentes desde un punto de vista del negocio?"
   ]
  },
  {
   "cell_type": "code",
   "execution_count": 20,
   "metadata": {
    "colab": {
     "base_uri": "https://localhost:8080/"
    },
    "id": "HONcMlobjPaU",
    "outputId": "c350a2cf-acc3-487f-d0b6-08d59dd5ec6e"
   },
   "outputs": [
    {
     "name": "stdout",
     "output_type": "stream",
     "text": [
      "Monto total registrado en BANSUR: $ 53977030.03\n",
      "Cantidad total de trasacciones registradas en BANSUR: $ 132396\n",
      "\n",
      "Monto total registrado en CLAP: $ 73736800.92\n",
      "Cantidad total de trasacciones registradas en CLAP 163549\n"
     ]
    }
   ],
   "source": [
    "query = '''SELECT SUM(MONTO), COUNT(*) FROM bansur ORDER BY FECHA_TRANSACCION'''\n",
    "\n",
    "cursor.execute(query)\n",
    "result_bansur_all = cursor.fetchone()\n",
    "\n",
    "print(\"Monto total registrado en BANSUR: $\", round(result_bansur_all[0],2))\n",
    "print(\"Cantidad total de trasacciones registradas en BANSUR:\",result_bansur_all[1])\n",
    "\n",
    "query = '''SELECT SUM(MONTO), COUNT(*) FROM clap ORDER BY FECHA_TRANSACCION'''\n",
    "\n",
    "cursor.execute(query)\n",
    "result_clap_all = cursor.fetchone()\n",
    "print(\"\\nMonto total registrado en CLAP: $\", round(result_clap_all[0],2))\n",
    "print(\"Cantidad total de trasacciones registradas en CLAP\",result_clap_all[1])"
   ]
  },
  {
   "cell_type": "markdown",
   "metadata": {
    "id": "sWRRTr3dot39"
   },
   "source": [
    "#### Para comparar los resultados totales con las busquedas filtradas, realizamos un porcentaje de los valores totales sobre los obtenidos."
   ]
  },
  {
   "cell_type": "code",
   "execution_count": 21,
   "metadata": {
    "colab": {
     "base_uri": "https://localhost:8080/"
    },
    "id": "nS25QpDBo5dc",
    "outputId": "b13edfea-0363-4b27-a769-a75efbfe8d01"
   },
   "outputs": [
    {
     "name": "stdout",
     "output_type": "stream",
     "text": [
      "Porcentaje de transacciones pagadas sobre las totales en CLAP : % 0.828\n",
      "Porcentaje de las cantidades pagadas sobre las cantidades totales en CLAP: % 0.901\n",
      "\n",
      "Porcentaje de transacciones pagadas sobre las totales en BANSUR : % 1.001\n",
      "Porcentaje de las cantidades pagadas sobre las cantidades totales en BANSUR  : % 1.0\n"
     ]
    }
   ],
   "source": [
    "print(\"Porcentaje de transacciones pagadas sobre las totales en CLAP : %\",round(result_clap[0]/result_clap_all[0],3))\n",
    "print(\"Porcentaje de las cantidades pagadas sobre las cantidades totales en CLAP: %\",round(result_clap[1]/result_clap_all[1],3))\n",
    "\n",
    "print(\"\\nPorcentaje de transacciones pagadas sobre las totales en BANSUR : %\",round(result_bansur[0]/result_bansur_all[0],3))\n",
    "print(\"Porcentaje de las cantidades pagadas sobre las cantidades totales en BANSUR  : %\",round(result_bansur[1]/result_bansur_all[1],3))"
   ]
  },
  {
   "cell_type": "markdown",
   "metadata": {
    "id": "3R8Q79UwrAA-"
   },
   "source": [
    "#### 4. Teniendo en cuenta los criterios de cruce entre ambas bases conciliables, escriba una sentencia de SQL que contenga la información de CLAP y BANSUR: Agregue una columna en la que se evidencie si la transacción cruzó o no con su contrapartida y una columna en la que se inserte un ID autoincremental para el control de la conciliación.\n",
    "  \n",
    "Bases conciliables:"
   ]
  },
  {
   "cell_type": "code",
   "execution_count": 22,
   "metadata": {},
   "outputs": [
    {
     "name": "stdout",
     "output_type": "stream",
     "text": [
      "('954015', '0957', 'PAGADA', '52.5', '2020-11-01 00:00:00.000', '150741', '345794185336', '2020-11-01')\n",
      "('497797', '5698', 'PAGADA', '150', '2020-11-01 00:00:00.000', '392762', '123262279716', '2020-11-01')\n",
      "('404826', '5177', 'PAGADA', '171', '2020-11-01 00:00:00.000', '018295', '167018133724', '2020-11-01')\n",
      "('403958', '2775', 'PAGADA', '75', '2020-11-01 00:00:00.000', '017647', '741123866254', '2020-11-01')\n",
      "('497797', '2152', 'PAGADA', '126', '2020-11-01 00:00:00.000', '396307', '137520451938', '2020-11-01')\n",
      "('975367', '6725', 'PAGADA', '325', '2020-11-01 00:00:00.000', '012017', '722806390634', '2020-11-01')\n",
      "('971546', '0569', 'PAGADA', '50', '2020-11-01 00:00:02.000', '005248', '370020923294', '2020-11-01')\n",
      "('930288', '7755', 'PAGADA', '155', '2020-11-01 00:00:02.000', '022015', '679067777866', '2020-11-01')\n",
      "('442753', '2739', 'PAGADA', '40', '2020-11-01 00:00:02.000', '000412', '197845506377', '2020-11-01')\n",
      "('954015', '6214', 'PAGADA', '70', '2020-11-01 00:00:02.000', '151479', '621438042427', '2020-11-01')\n",
      "\n",
      "\n",
      "('9540150300', 'PAGO', '44', '20201101', '272012', '320720237226', '2020-11-03')\n",
      "('9540150300', 'PAGO', '93', '20201101', '216149', '812801092295', '2020-11-03')\n",
      "('9540150310', 'PAGO', '1579', '20201101', '898544', '563080775636', '2020-11-03')\n",
      "('9540150319', 'PAGO', '86', '20201101', '501928', '924685088703', '2020-11-03')\n",
      "('9540150314', 'PAGO', '679', '20201101', '170207', '035452614774', '2020-11-03')\n",
      "('9540150347', 'PAGO', '75', '20201101', '009187', '603396947906', '2020-11-03')\n",
      "('9540150383', 'PAGO', '525', '20201101', '055165', '000153266978', '2020-11-03')\n",
      "('9540150382', 'PAGO', '150', '20201101', '912471', '217691630619', '2020-11-03')\n",
      "('9540150320', 'PAGO', '45.15', '20201101', '440954', '773873869693', '2020-11-03')\n",
      "('9540150361', 'PAGO', '252.72', '20201101', '990646', '023419715445', '2020-11-03')\n"
     ]
    }
   ],
   "source": [
    "query = '''SELECT * FROM clap WHERE TIPO_TRX = 'PAGADA' ORDER BY FECHA_TRANSACCION'''\n",
    "cursor.execute(query)\n",
    "clap_conciliable= cursor.fetchmany(10)\n",
    "\n",
    "for row in clap_conciliable:\n",
    "    print(row)\n",
    "    \n",
    "print('\\n')\n",
    "\n",
    "query = '''SELECT * FROM bansur WHERE TIPO_TRX = 'PAGO' ORDER BY FECHA_TRANSACCION'''\n",
    "cursor.execute(query)\n",
    "clap_conciliable= cursor.fetchmany(10)\n",
    "\n",
    "for row in clap_conciliable:\n",
    "    print(row)"
   ]
  },
  {
   "cell_type": "code",
   "execution_count": 23,
   "metadata": {
    "colab": {
     "base_uri": "https://localhost:8080/",
     "height": 255
    },
    "id": "kafM9C534j9k",
    "outputId": "ea979fc9-0a65-4b3d-e3fc-272acf7e97ab"
   },
   "outputs": [
    {
     "name": "stdout",
     "output_type": "stream",
     "text": [
      "(6281, '954015', '0108', 'PAGADA', '500', '20201101', '193186', '041640116604', '2020-11-02', 'si')\n",
      "(6282, '954015', '6530', 'PAGADA', '130', '20201101', '193429', '041467739202', '2020-11-02', 'si')\n",
      "(6283, '497797', '2844', 'PAGADA', '2100', '20201101', '127882', '074878446381', '2020-11-02', 'si')\n",
      "(6284, '958758', '1814', 'PAGADA', '119', '20201101', '183237', '042848711911', '2020-11-02', 'si')\n",
      "(6285, '404826', '6379', 'PAGADA', '450', '20201101', '024461', '890542723340', '2020-11-02', 'si')\n",
      "\n",
      "\n",
      "(6281, '954015', '0108', 'PAGADA', '500', '20201101', '193186', '041640116604', '2020-11-02', 'si')\n",
      "(6282, '954015', '6530', 'PAGADA', '130', '20201101', '193429', '041467739202', '2020-11-02', 'si')\n",
      "(6283, '497797', '2844', 'PAGADA', '2100', '20201101', '127882', '074878446381', '2020-11-02', 'si')\n",
      "(6284, '958758', '1814', 'PAGADA', '119', '20201101', '183237', '042848711911', '2020-11-02', 'si')\n",
      "(6285, '404826', '6379', 'PAGADA', '450', '20201101', '024461', '890542723340', '2020-11-02', 'si')\n"
     ]
    }
   ],
   "source": [
    "\n",
    "modifyTable('clapTemp', 'clap', clap_header, clap_rows, cursor)\n",
    "modifyTable('bansurTemp','bansur', bansur_header, bansur_rows, cursor)\n",
    "\n",
    "query = '''\n",
    "    UPDATE clap\n",
    "    SET FECHA_TRANSACCION = strftime('%Y%m%d', FECHA_TRANSACCION)\n",
    "'''\n",
    "\n",
    "cursor.execute(query)\n",
    "\n",
    "query = '''\n",
    "    UPDATE clap\n",
    "    SET CRUZADO = 'si'\n",
    "    FROM bansur\n",
    "    WHERE clap.ID_BANCO = bansur.ID_ADQUIRIENTE\n",
    "    AND clap.TIPO_TRX = 'PAGADA'\n",
    "    AND bansur.TIPO_TRX = 'PAGO'\n",
    "    AND clap.INICIO6_TARJETA || FINAL4_TARJETA = bansur.TARJETA\n",
    "    AND (clap.MONTO = bansur.MONTO OR ABS(clap.MONTO - bansur.MONTO) <= 0.99)\n",
    "    AND clap.FECHA_TRANSACCION = bansur.FECHA_TRANSACCION\n",
    "'''\n",
    "\n",
    "cursor.execute(query)\n",
    "\n",
    "query = '''\n",
    "    SELECT *\n",
    "    FROM clap\n",
    "    WHERE CRUZADO = 'si'\n",
    "    ORDER BY FECHA_TRANSACCION\n",
    "'''\n",
    "\n",
    "cursor.execute(query)\n",
    "clap_cruzado = cursor.fetchmany(5)  # Obtener las primeras 10 líneas\n",
    "\n",
    "for row in clap_cruzado:\n",
    "    print(row)\n",
    "    \n",
    "query = '''\n",
    "    UPDATE bansur\n",
    "    SET CRUZADO = 'si'\n",
    "    FROM clap\n",
    "    WHERE clap.ID_BANCO = bansur.ID_ADQUIRIENTE\n",
    "    AND clap.TIPO_TRX = 'PAGADA'\n",
    "    AND bansur.TIPO_TRX = 'PAGO'\n",
    "    AND clap.INICIO6_TARJETA || FINAL4_TARJETA = bansur.TARJETA\n",
    "    AND (clap.MONTO = bansur.MONTO OR ABS(clap.MONTO - bansur.MONTO) <= 0.99)\n",
    "    AND clap.FECHA_TRANSACCION = bansur.FECHA_TRANSACCION\n",
    "'''\n",
    "\n",
    "cursor.execute(query)\n",
    "\n",
    "query = '''\n",
    "    SELECT *\n",
    "    FROM bansur\n",
    "    WHERE CRUZADO = 'si'\n",
    "    ORDER BY FECHA_TRANSACCION\n",
    "'''\n",
    "\n",
    "cursor.execute(query)\n",
    "bansur_cruzado = cursor.fetchmany(5)  # Obtener las primeras 10 líneas\n",
    "\n",
    "print(\"\\n\")\n",
    "for row in clap_cruzado:\n",
    "    print(row)\n"
   ]
  },
  {
   "cell_type": "markdown",
   "metadata": {
    "id": "dLa2AjT4rl7c"
   },
   "source": [
    "#### 5. Diseñe un código que calcule el porcentaje de transacciones de la base conciliable de CLAP cruzó contra la liquidación de BANSUR.\n"
   ]
  },
  {
   "cell_type": "code",
   "execution_count": 46,
   "metadata": {
    "id": "1f5jz6l6rnFt"
   },
   "outputs": [
    {
     "name": "stdout",
     "output_type": "stream",
     "text": [
      "Cantidad de transacciones concilliables en CLAP cruzadas: 96355\n",
      "\n",
      "Monto total registrado en BANSUR: 132396\n",
      "\n",
      "Porcentaje de transacciones de CLAP conciliables cruzadas en la liquidación de BANSUR:% 0.73\n"
     ]
    }
   ],
   "source": [
    "query = '''SELECT COUNT(*) FROM clap WHERE CRUZADO = 'si' '''\n",
    "\n",
    "cursor.execute(query)\n",
    "count_conciliable_clap = cursor.fetchall()\n",
    "print(\"Cantidad de transacciones concilliables en CLAP cruzadas:\",count_conciliable_clap[0][0])\n",
    "\n",
    "print(\"\\nMonto total registrado en BANSUR:\",result_bansur_all[1])\n",
    "print(\"\\nPorcentaje de transacciones de CLAP conciliables cruzadas en la liquidación de BANSUR:%\",\n",
    "         round((count_conciliable_clap[0][0]/result_bansur_all[1]),2))"
   ]
  },
  {
   "cell_type": "markdown",
   "metadata": {
    "id": "37ZUhLlHrnXU"
   },
   "source": [
    "#### 6. Diseñe un código que calcule el porcentaje de transacciones de la base conciliable de BANSUR no cruzó contra la liquidación de CLAP."
   ]
  },
  {
   "cell_type": "code",
   "execution_count": 48,
   "metadata": {
    "id": "rDmBD2cqrps1"
   },
   "outputs": [
    {
     "name": "stdout",
     "output_type": "stream",
     "text": [
      "Cantidad de transacciones concilliables en CLAP cruzadas: 96355\n",
      "\n",
      "Monto total registrado en BANSUR: 163549\n",
      "\n",
      "Porcentaje de transacciones de BANSUR conciliables cruzadas en la liquidación de CLAP:% 0.59\n"
     ]
    }
   ],
   "source": [
    "query = '''SELECT COUNT(*) FROM bansur WHERE CRUZADO = 'si' '''\n",
    "\n",
    "cursor.execute(query)\n",
    "count_conciliable_bansur = cursor.fetchall()\n",
    "print(\"Cantidad de transacciones concilliables en CLAP cruzadas:\",count_conciliable_bansur[0][0])\n",
    "\n",
    "print(\"\\nMonto total registrado en BANSUR:\",result_clap_all[1])\n",
    "print(\"\\nPorcentaje de transacciones de BANSUR conciliables cruzadas en la liquidación de CLAP:%\",\n",
    "         round((count_conciliable_bansur[0][0]/result_clap_all[1]),2))"
   ]
  }
 ],
 "metadata": {
  "colab": {
   "provenance": []
  },
  "kernelspec": {
   "display_name": "Python 3 (ipykernel)",
   "language": "python",
   "name": "python3"
  },
  "language_info": {
   "codemirror_mode": {
    "name": "ipython",
    "version": 3
   },
   "file_extension": ".py",
   "mimetype": "text/x-python",
   "name": "python",
   "nbconvert_exporter": "python",
   "pygments_lexer": "ipython3",
   "version": "3.10.6"
  }
 },
 "nbformat": 4,
 "nbformat_minor": 1
}
